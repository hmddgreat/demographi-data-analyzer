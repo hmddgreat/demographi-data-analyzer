{
 "cells": [
  {
   "cell_type": "code",
   "execution_count": 46,
   "id": "18f7a6a2-2776-4000-9cd4-5a3489636ff9",
   "metadata": {
    "tags": []
   },
   "outputs": [],
   "source": [
    "import numpy as np \n",
    "import pandas as pd \n",
    "\n",
    "df = pd.read_csv('adult.data.csv')\n",
    "\n",
    "race_count = df['race'].value_counts()\n",
    "race_count\n",
    "average_age_men = df.loc[df['sex'] == 'Male', 'age'].mean()\n",
    "average_age_men\n",
    "\n",
    "percentage_bachelors = (df.loc[df['education'] == 'Bachelors'].shape[0] / df['education'].shape[0]) * 100\n",
    "percentage_bachelors\n",
    "\n",
    "higher_education = df.loc[(df['education'] == 'Bachelors') | (df['education'] == 'Masters') | (df['education'] == 'Doctorate')].shape[0]\n",
    "higher_education\n",
    "\n",
    "lower_education = df.loc[(df['education'] != 'Bachelors') & (df['education'] != 'Masters') & (df['education'] != 'Doctorate')].shape[0]\n",
    "lower_education\n",
    "\n",
    "higher_education_rich = ((df.loc[((df['education'] == 'Bachelors') | (df['education'] == 'Masters') | (df['education'] == 'Doctorate')) & (df['salary'] == '>50K')].shape[0])/higher_education)*100\n",
    "lower_education_rich = df.loc[((df['education'] != 'Bachelors') & (df['education'] != 'Masters') & (df['education'] != 'Doctorate')) & (df['salary'] == '>50K')]\n",
    "\n",
    "min_work_hours = df['hours-per-week'].min()\n",
    "\n",
    "\n",
    "rich_percentage = (num_min_workers / df[df['hours-per-week'] == min_work_hours].shape[0]) * 100\n",
    "\n",
    "\n",
    "num_min_workers = df.loc[df['hours-per-week']].shape[0] \n",
    "\n",
    "# rich_percentage = df.loc[df['salary'] == '>50K'] / df['salary'].shape[0]\n",
    "highest_earning_country = df.loc[df['native-country'].value_counts().max(), 'native-country']\n",
    "highest_earning_country_percentage = (df.loc[df['native-country'] == highest_earning_country, 'native-country'].value_counts()) / df['native-country'].shape[0]\n",
    "top_IN_occupation = df['occupation'].mode().iloc[0]\n"
   ]
  }
 ],
 "metadata": {
  "kernelspec": {
   "display_name": "Python 3 (ipykernel)",
   "language": "python",
   "name": "python3"
  },
  "language_info": {
   "codemirror_mode": {
    "name": "ipython",
    "version": 3
   },
   "file_extension": ".py",
   "mimetype": "text/x-python",
   "name": "python",
   "nbconvert_exporter": "python",
   "pygments_lexer": "ipython3",
   "version": "3.11.5"
  }
 },
 "nbformat": 4,
 "nbformat_minor": 5
}
